{
 "cells": [
  {
   "cell_type": "code",
   "execution_count": 7,
   "metadata": {},
   "outputs": [
    {
     "name": "stdout",
     "output_type": "stream",
     "text": [
      "Довжини сторін:\tAB=1.4142\tAC=1.4142\tBC=2.4495\n",
      "Кути трикутника:\tA=120.00 \tB=30.00 \tC=30.00\n",
      "Площа трикутника \tS=0.86603\n",
      "Довжина висоти:\tH=1.2247\n"
     ]
    }
   ],
   "source": [
    "%matplotlib qt \n",
    "import numpy as np\n",
    "import matplotlib.pyplot as plt\n",
    "from mpl_toolkits.mplot3d import Axes3D\n",
    "\n",
    "plt.close('all')\n",
    "A = np.array([5, 3, -1])\n",
    "B = np.array([5, 2, 0])\n",
    "C = np.array([6, 4, -1])\n",
    "X, Y, Z = zip(A, B, C, A)\n",
    "fig = plt.figure()\n",
    "ax = fig.add_subplot(111, projection='3d')\n",
    "ax.plot(X, Y, Z, linewidth=4, c='k')\n",
    "ax.azim, ax.elev = 45, 20\n",
    "AB = B - A\n",
    "AC = C - A\n",
    "BC = C - B\n",
    "LAB, LAC, LBC = map(np.linalg.norm, [AB, AC, BC])\n",
    "sL = 'Довжини сторін:\\tAB={:.4f}\\tAC={:.4f}\\tBC={:.4f}'.format(LAB, LAC, LBC)\n",
    "print(sL)\n",
    "\n",
    "\n",
    "def anglegrad(a, b):  # кут між векторами a,b в градусах\n",
    "    sp = np.dot(a, b)\n",
    "    la = np.linalg.norm(a)\n",
    "    lb = np.linalg.norm(b)\n",
    "    alph = np.arccos(sp / la / lb) * 180 / np.pi\n",
    "    return alph\n",
    "\n",
    "\n",
    "aA, aB, aC = map(anglegrad, [AB, -AB, AC], [AC, BC, BC])\n",
    "sA = 'Кути трикутника:\\tA={:.2f} \\tB={:.2f} \\tC={:.2f}'.format(aA,aB,aC)\n",
    "print(sA)\n",
    "S = np.linalg.norm(np.cross(AB, AC)) / 2\n",
    "print('Площа трикутника \\tS=%6.5f' % S)\n",
    "\n",
    "BA = A - B\n",
    "AC = C - A\n",
    "\n",
    "x = -BA.dot(AC) / AC.dot(AC)\n",
    "BD = BA + x * AC\n",
    "sH = 'Довжина висоти:\\tH={:.4f}'.format(np.linalg.norm(BD))\n",
    "print(sH)\n",
    "D = BD + B\n",
    "\n",
    "xD, yD, zD = zip(B, D)\n",
    "ax.plot(xD, yD, zD, linewidth=4, c='g')\n",
    "\n",
    "ax.scatter([D[0]], [D[1]], [D[2]], s=100, c='r')\n",
    "ax.set_box_aspect(aspect = (2,2.7,1))\n",
    "plt.show()\n"
   ]
  }
 ],
 "metadata": {
  "kernelspec": {
   "display_name": "Python 3",
   "language": "python",
   "name": "python3"
  },
  "language_info": {
   "codemirror_mode": {
    "name": "ipython",
    "version": 3
   },
   "file_extension": ".py",
   "mimetype": "text/x-python",
   "name": "python",
   "nbconvert_exporter": "python",
   "pygments_lexer": "ipython3",
   "version": "3.10.0"
  }
 },
 "nbformat": 4,
 "nbformat_minor": 2
}
