{
 "cells": [
  {
   "cell_type": "code",
   "execution_count": 2,
   "metadata": {},
   "outputs": [
    {
     "name": "stdout",
     "output_type": "stream",
     "text": [
      "Координати точки D:\t    6.00     3.00     0.00\n",
      "Площа паралелограма \tS= 1.73205\n"
     ]
    }
   ],
   "source": [
    "%matplotlib qt \n",
    "import numpy as np\n",
    "import matplotlib.pyplot as plt\n",
    "plt.close('all')\n",
    "A=np.array([5, 3, -1])\n",
    "B=np.array([5, 2, 0])\n",
    "C=np.array([6, 4, -1])\n",
    "AB=B-A\n",
    "AC=C-A\n",
    "D=A+(AB+AC) # координати вершини D\n",
    "print('Координати точки D:\\t%8.2f %8.2f %8.2f' % (D[0],D[1],D[2]))\n",
    "\n",
    "nrm=np.cross(AB,AC)\n",
    "S=np.linalg.norm(nrm)\n",
    "print('Площа паралелограма \\tS=%8.5f' % S)\n",
    "\n",
    "fig = plt.figure()\n",
    "ax = fig.add_subplot(111, projection='3d')\n",
    "X,Y,Z=zip(A,B,D,C,A)\n",
    "ax.plot(X,Y,Z,linewidth=4,c='k')\n",
    "ax.azim, ax.elev=60,15 # азимут і кутова висота точки спостереження\n",
    "ax.scatter(X,Y,Z,s=100,c='r')\n",
    "\n",
    "t= np.linspace(0,1,9)\n",
    "p,q=np.meshgrid(t,t)\n",
    "X=A[0]+p*AB[0]+q*AC[0]\n",
    "Y=A[1]+p*AB[1]+q*AC[1]\n",
    "Z=A[2]+p*AB[2]+q*AC[2]\n",
    "ax.plot_surface(X,Y,Z,rstride=1, cstride=2,color='c',alpha=0.3)\n",
    "E = (B + D) / 2\n",
    "xD, yD, zD = zip(A, E)\n",
    "ax.plot(xD, yD, zD, linewidth=4, c='g')\n",
    "ax.scatter([E[0]], [E[1]], [E[2]], s=100, c='r')\n",
    "ne=nrm/np.linalg.norm(nrm) # одиничний вектор нормалі\n",
    "ax.quiver(*E,*(0.5*ne),linewidth=2,color='b', arrow_length_ratio=0.25)\n",
    "plt.show()\n"
   ]
  }
 ],
 "metadata": {
  "kernelspec": {
   "display_name": "Python 3",
   "language": "python",
   "name": "python3"
  },
  "language_info": {
   "codemirror_mode": {
    "name": "ipython",
    "version": 3
   },
   "file_extension": ".py",
   "mimetype": "text/x-python",
   "name": "python",
   "nbconvert_exporter": "python",
   "pygments_lexer": "ipython3",
   "version": "3.10.0"
  }
 },
 "nbformat": 4,
 "nbformat_minor": 2
}
