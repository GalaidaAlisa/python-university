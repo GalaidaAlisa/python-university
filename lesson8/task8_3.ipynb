{
 "cells": [
  {
   "cell_type": "code",
   "execution_count": 1,
   "metadata": {},
   "outputs": [
    {
     "name": "stdout",
     "output_type": "stream",
     "text": [
      "Об’єм тетраедра \tV=73.33333\n",
      "Площа трикутника ABC\tS=37.10795\n",
      "Координати точки E: 3.0000 -1.6667 -3.6667\n"
     ]
    }
   ],
   "source": [
    "%matplotlib qt \n",
    "import numpy as np\n",
    "import matplotlib.pyplot as plt\n",
    "\n",
    "plt.close('all')\n",
    "\n",
    "A=np.array([0, -1, -1])\n",
    "B=np.array([8, 1, -1])\n",
    "C=np.array([1, -5, -9])\n",
    "D=np.array([-1, -6, 3])\n",
    "\n",
    "X,Y,Z=zip(A,B,C,A,D,B,C,D)\n",
    "fig = plt.figure()\n",
    "ax = fig.add_subplot(111, projection='3d')\n",
    "ax.plot(X,Y,Z,linewidth=4,c='k')\n",
    "\n",
    "AB=B-A\n",
    "AC=C-A\n",
    "AD=D-A\n",
    "mp=np.array([AB,AC,AD])\n",
    "V=np.abs(np.linalg.det(mp))/6\n",
    "print(\"Об’єм тетраедра \\tV=%8.5f\" % V)\n",
    "Nrm=np.cross(AB,AC)\n",
    "S=np.linalg.norm(Nrm)/2\n",
    "print('Площа трикутника ABC\\tS=%8.5f' % S)\n",
    "\n",
    "E = (A + B + C) / 3\n",
    "print('Координати точки E: %.4f %.4f %.4f' % (E[0], E[1], E[2]))\n",
    "xAE, yAE, zAE = zip(A, E)\n",
    "ax.plot(xAE, yAE, zAE, linewidth=4, c='g')\n",
    "\n",
    "xED,yED,zED=zip(D,E)\n",
    "ax.plot(xED,yED,zED,linewidth=4,c='g')\n",
    "ax.scatter(*E,s=100,c='r')\n",
    "\n",
    "plt.show()\n"
   ]
  }
 ],
 "metadata": {
  "kernelspec": {
   "display_name": "Python 3",
   "language": "python",
   "name": "python3"
  },
  "language_info": {
   "codemirror_mode": {
    "name": "ipython",
    "version": 3
   },
   "file_extension": ".py",
   "mimetype": "text/x-python",
   "name": "python",
   "nbconvert_exporter": "python",
   "pygments_lexer": "ipython3",
   "version": "3.10.0"
  }
 },
 "nbformat": 4,
 "nbformat_minor": 2
}
