{
 "cells": [
  {
   "cell_type": "code",
   "execution_count": 5,
   "metadata": {},
   "outputs": [
    {
     "name": "stdout",
     "output_type": "stream",
     "text": [
      "Координати центра кола:\t    1.40   -0.02    1.03\n",
      "Площа трикутника \tS=3.08221\n"
     ]
    }
   ],
   "source": [
    "%matplotlib qt \n",
    "import numpy as np\n",
    "import matplotlib.pyplot as plt\n",
    "\n",
    "A = np.array([1, 0, 2])\n",
    "B = np.array([1, 2, -1])\n",
    "C = np.array([2, -1, 1])\n",
    "\n",
    "fig = plt.figure()\n",
    "ax = fig.add_subplot(111, projection='3d')\n",
    "\n",
    "X, Y, Z = zip(A, B, C)\n",
    "ax.scatter(X, Y, Z, s=100, c='r')\n",
    "X, Y, Z = zip(A, B, C, A)\n",
    "ax.plot(X, Y, Z, linewidth=4, c='k')\n",
    "ax.azim, ax.elev = -120, 20\n",
    "\n",
    "d = np.array([B - A, C - A])\n",
    "detx = np.linalg.det(d[:, 1:])\n",
    "dety = np.linalg.det(d[:, [0, 2]])\n",
    "detz = np.linalg.det(d[:, 0:-1])\n",
    "\n",
    "x = np.linspace(-3, 3, 61)\n",
    "y = np.linspace(-3, 5, 81)\n",
    "X, Y = np.meshgrid(x, y)\n",
    "\n",
    "Z = A[2] + 1 / detz * ((Y - A[1]) * dety - (X - A[0]) * detx)\n",
    "ax.plot_surface(X, Y, Z, rstride=7, cstride=7, color='c', alpha=0.5)\n",
    "\n",
    "a = np.linalg.norm(C - B)  # довжина сторони протилежна A\n",
    "b = np.linalg.norm(C - A)  # довжина сторони протилежна B\n",
    "c = np.linalg.norm(B - A)  # довжина сторони протилежна C\n",
    "O = (a * A + b * B + c * C) / (a + b + c)  # координати центра кола\n",
    "\n",
    "print('Координати центра кола:\\t%8.2f%8.2f%8.2f' % (O[0], O[1], O[2]))\n",
    "S = np.linalg.norm(np.cross(B - A, C - A)) / 2\n",
    "print('Площа трикутника \\tS=%6.5f' % S)\n",
    "Nrm = np.cross(B - A, C - A)\n",
    "ax.scatter(*O, s=80, c='b')  # зображення точки центра\n",
    "s = (a + b + c) / 2\n",
    "Rc = np.sqrt((s - a) * (s - b) * (s - c) / s)\n",
    "ne = Nrm / np.linalg.norm(Nrm)  # одиничний вектор нормалі до площини\n",
    "va = (A - O) / np.linalg.norm(A - O)  # одиничний вектор 𝒂\n",
    "vb = np.cross(va, ne)  # одиничний вектор 𝒃\n",
    "t = np.linspace(0, 2 * np.pi, 51)\n",
    "\n",
    "xcircum, ycircum, zcircum = O[:, None] + Rc * va[:, None] * np.cos(t) + Rc * vb[:, None] * np.sin(t)\n",
    "\n",
    "ax.plot(xcircum, ycircum, zcircum, linewidth=3, c='m')\n",
    "ax.quiver(*O, *(-3 * ne), linewidth=2, color='b', arrow_length_ratio=0.25)\n",
    "ax.set_box_aspect(aspect = (6,6,25))\n",
    "plt.show()\n"
   ]
  }
 ],
 "metadata": {
  "kernelspec": {
   "display_name": "Python 3",
   "language": "python",
   "name": "python3"
  },
  "language_info": {
   "codemirror_mode": {
    "name": "ipython",
    "version": 3
   },
   "file_extension": ".py",
   "mimetype": "text/x-python",
   "name": "python",
   "nbconvert_exporter": "python",
   "pygments_lexer": "ipython3",
   "version": "3.10.0"
  }
 },
 "nbformat": 4,
 "nbformat_minor": 2
}
