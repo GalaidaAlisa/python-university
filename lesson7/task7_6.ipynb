{
 "cells": [
  {
   "cell_type": "code",
   "execution_count": 2,
   "metadata": {},
   "outputs": [],
   "source": [
    "%matplotlib qt \n",
    "import numpy as np\n",
    "from matplotlib import pyplot as plt\n",
    "from matplotlib import cm\n",
    "\n",
    "plt.close('all')\n",
    "N = 81\n",
    "x = np.linspace(-4, 4, N)\n",
    "X, Y = np.meshgrid(x, x)\n",
    "Z = np.zeros((N, N))\n",
    "# задання висоти поверхні по ділянкам\n",
    "SQ = np.sqrt(X ** 2 + Y ** 2)\n",
    "C1 = SQ < 3\n",
    "F1 = 3 - SQ\n",
    "Z[C1] = F1[C1]\n",
    "C2 = SQ < 1\n",
    "F2 = 1 + SQ\n",
    "Z[C2] = F2[C2]\n",
    "# створення графічного вікна вдвічі ширшим за висоту\n",
    "fig = plt.figure(figsize=plt.figaspect(0.5))\n",
    "# побудува графіка поверхні\n",
    "ax1 = fig.add_subplot(1, 2, 1, projection='3d')\n",
    "surf = ax1.plot_surface(X, Y, Z, rstride=1, cstride=1,\n",
    "                        antialiased=False, cmap='hsv')\n",
    "ax1.set_zlim(-0.01, 2.01)\n",
    "fig.colorbar(surf, shrink=0.5, aspect=10)\n",
    "fp = r'D:\\university\\2_course\\programming\\python(university_course)\\my_image.png'\n",
    "img = plt.imread(fp)\n",
    "ax2 = fig.add_subplot(1, 2, 2)\n",
    "ax2.imshow(img)\n",
    "plt.show()\n"
   ]
  }
 ],
 "metadata": {
  "kernelspec": {
   "display_name": "Python 3",
   "language": "python",
   "name": "python3"
  },
  "language_info": {
   "codemirror_mode": {
    "name": "ipython",
    "version": 3
   },
   "file_extension": ".py",
   "mimetype": "text/x-python",
   "name": "python",
   "nbconvert_exporter": "python",
   "pygments_lexer": "ipython3",
   "version": "3.10.0"
  }
 },
 "nbformat": 4,
 "nbformat_minor": 2
}
