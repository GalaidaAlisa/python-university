{
 "cells": [
  {
   "cell_type": "code",
   "execution_count": 3,
   "metadata": {},
   "outputs": [],
   "source": [
    "%matplotlib qt \n",
    "import numpy as np\n",
    "import matplotlib.pyplot as plt\n",
    "from mpl_toolkits.mplot3d import Axes3D\n",
    "\n",
    "plt.close('all')\n",
    "\n",
    "\n",
    "def f(x):\n",
    "    return np.piecewise(x,\n",
    "                        [x <= 2],\n",
    "                        [lambda t: 2 * t * (2 - t), lambda t: 0])\n",
    "\n",
    "\n",
    "def F1(x, y):\n",
    "    return f(np.sqrt(x ** 2 + y ** 2))\n",
    "\n",
    "\n",
    "def F2(x, y):\n",
    "    return f(np.abs(x))\n",
    "\n",
    "\n",
    "x = np.linspace(-4, 4, 81)\n",
    "z = f(np.abs(x))\n",
    "\n",
    "# Create a single figure\n",
    "fig = plt.figure(figsize=(12, 6))\n",
    "\n",
    "axUpLeft = plt.subplot2grid((2, 2), (0, 0))\n",
    "axUpLeft.plot(x, z, lw=3, c='k')\n",
    "axUpLeft.set_title('1D Plot')\n",
    "\n",
    "X1, Y1 = np.meshgrid(x, x)\n",
    "Z1 = F2(X1, Y1)\n",
    "\n",
    "axDown = plt.subplot2grid((2, 2), (1, 0), colspan=2, projection='3d')\n",
    "axDown.plot_wireframe(X1, Y1, Z1, rstride=8, cstride=2, color='b')\n",
    "axDown.set_title('Wireframe Plot')\n",
    "\n",
    "X2, Y2 = np.meshgrid(x, x)\n",
    "Z2 = F1(X2, Y2)\n",
    "\n",
    "axRight = plt.subplot2grid((2, 2), (0, 1), projection='3d')\n",
    "axRight.plot_surface(X2, Y2, Z2, rstride=1, cstride=1)\n",
    "axRight.set_title('Surface Plot')\n",
    "\n",
    "plt.show()\n"
   ]
  }
 ],
 "metadata": {
  "kernelspec": {
   "display_name": "Python 3",
   "language": "python",
   "name": "python3"
  },
  "language_info": {
   "codemirror_mode": {
    "name": "ipython",
    "version": 3
   },
   "file_extension": ".py",
   "mimetype": "text/x-python",
   "name": "python",
   "nbconvert_exporter": "python",
   "pygments_lexer": "ipython3",
   "version": "3.10.0"
  }
 },
 "nbformat": 4,
 "nbformat_minor": 2
}
