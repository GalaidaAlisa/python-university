{
 "cells": [
  {
   "cell_type": "code",
   "execution_count": 4,
   "metadata": {},
   "outputs": [
    {
     "name": "stdout",
     "output_type": "stream",
     "text": [
      "Довжина дуги: 43.44612667672819\n",
      "Очікувана довжина дуги: 43.4461266767282\n"
     ]
    },
    {
     "data": {
      "text/plain": [
       "Text(0.5, 1.0, 'Графік параметричного рівняння')"
      ]
     },
     "execution_count": 4,
     "metadata": {},
     "output_type": "execute_result"
    }
   ],
   "source": [
    "# Довжина кривої.\n",
    "\n",
    "%matplotlib qt \n",
    "import sympy as sp\n",
    "import numpy as np\n",
    "from scipy.integrate import quad\n",
    "import matplotlib.pyplot as plt\n",
    "\n",
    "# задаємо функцію кривої, обчислюємо її похідні та вираз sqrt((x'(t))^2 + (y'(t))^2), знаходимо довжину дуги кривої за формулою\n",
    "t = sp.symbols('t')\n",
    "x = sp.exp(t/8)*(sp.cos(t)+sp.sin(t))\n",
    "y = sp.exp(t/8)*(sp.cos(t)-sp.sin(t))\n",
    "dx_dt = sp.diff(x, t)\n",
    "dy_dt = sp.diff(y, t)\n",
    "fl = sp.sqrt(dx_dt ** 2 + dy_dt ** 2)\n",
    "Fl = sp.lambdify(t, fl, 'numpy')\n",
    "t0 = 0\n",
    "t1 = 4 * np.pi\n",
    "L = quad(Fl, t0, t1)[0] # обчислюється інтеграл за допомогою функції quad\n",
    "print(\"Довжина дуги:\", L)\n",
    "print(\"Очікувана довжина дуги:\", 130**(1/2)*(-1+sp.exp(np.pi/2)))\n",
    "\n",
    "# Перетворення в numpy-функції\n",
    "x_func = sp.lambdify(t, x, 'numpy')\n",
    "y_func = sp.lambdify(t, y, 'numpy')\n",
    "\n",
    "# Інтервал параметра t\n",
    "t_values1 = np.linspace(0, 4 * np.pi, 1000)\n",
    "t_values2 = np.linspace(-np.pi, 6 * np.pi, 1000)\n",
    "\n",
    "# Значення x та y на інтервалі\n",
    "x_values1 = x_func(t_values1)\n",
    "y_values1 = y_func(t_values1)\n",
    "\n",
    "x_values2 = x_func(t_values2)\n",
    "y_values2 = y_func(t_values2)\n",
    "\n",
    "# Побудова графіка\n",
    "fig, ax = plt.subplots()\n",
    "ax.plot(x_values2, y_values2, color='blue')  # синій колір\n",
    "ax.plot(x_values1, y_values1, color='red')  # червоний колір\n",
    "ax.set_title('Графік параметричного рівняння')"
   ]
  }
 ],
 "metadata": {
  "kernelspec": {
   "display_name": "Python 3",
   "language": "python",
   "name": "python3"
  },
  "language_info": {
   "codemirror_mode": {
    "name": "ipython",
    "version": 3
   },
   "file_extension": ".py",
   "mimetype": "text/x-python",
   "name": "python",
   "nbconvert_exporter": "python",
   "pygments_lexer": "ipython3",
   "version": "3.10.0"
  }
 },
 "nbformat": 4,
 "nbformat_minor": 2
}
