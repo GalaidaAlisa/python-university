{
 "cells": [
  {
   "cell_type": "code",
   "execution_count": 3,
   "metadata": {},
   "outputs": [
    {
     "name": "stdout",
     "output_type": "stream",
     "text": [
      "Точки перетину: -1.000  4.000\n",
      "Площа між кривими=166.6667\n",
      "500/3 =  166.66666666666666\n"
     ]
    }
   ],
   "source": [
    "# Обчислення площі між двома кривими.\n",
    "\n",
    "%matplotlib qt \n",
    "import numpy as np\n",
    "import matplotlib.pyplot as plt\n",
    "from scipy.optimize import fsolve\n",
    "from scipy.integrate import quad\n",
    "plt.close('all')\n",
    "\n",
    "# створювання функцій f1 та f2, будування графіків\n",
    "f1=lambda x: 104-2*x**4\n",
    "f2=lambda x: 100-6*x**3-7*x**2-3*x\n",
    "x = np.linspace(-2, 5, 31)\n",
    "y1=f1(x)\n",
    "y2=f2(x)\n",
    "fig = plt.figure(facecolor='white')\n",
    "plt.plot(x,y1,'k-',x,y2,'b-',linewidth=4)\n",
    "\n",
    "# шукаємо абсциси точок перетину\n",
    "f =lambda x: f1(x)-f2(x)\n",
    "x1=fsolve(f,-1)[0]\n",
    "x2=fsolve(f,4)[0]\n",
    "print('Точки перетину: {:6.3f} {:6.3f}'.format(x1,x2))\n",
    "\n",
    "xf = np.linspace(x1, x2, 41)\n",
    "# обчислюємо масиви ординат верхньої і нижньої кривих на цьому відрізку\n",
    "yu=f2(xf)\n",
    "yd=f1(xf)\n",
    "# зафарбовуємо область між графіками\n",
    "plt.fill_between(xf, yu, yd, color='c')\n",
    "# знаходимо площу за формулою\n",
    "s=quad(f, x1, x2)[0]\n",
    "print('Площа між кривими={:6.4f}'.format(s))\n",
    "print('500/3 = ', 500/3)\n"
   ]
  }
 ],
 "metadata": {
  "kernelspec": {
   "display_name": "Python 3",
   "language": "python",
   "name": "python3"
  },
  "language_info": {
   "codemirror_mode": {
    "name": "ipython",
    "version": 3
   },
   "file_extension": ".py",
   "mimetype": "text/x-python",
   "name": "python",
   "nbconvert_exporter": "python",
   "pygments_lexer": "ipython3",
   "version": "3.10.0"
  }
 },
 "nbformat": 4,
 "nbformat_minor": 2
}
