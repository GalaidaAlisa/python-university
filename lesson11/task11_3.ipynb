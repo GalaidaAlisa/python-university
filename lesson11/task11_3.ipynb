{
 "cells": [
  {
   "cell_type": "code",
   "execution_count": 2,
   "metadata": {},
   "outputs": [],
   "source": [
    "# Чисельне знаходження невизначених інтегралів.\n",
    "\n",
    "%matplotlib qt \n",
    "import numpy as np\n",
    "import matplotlib.pyplot as plt\n",
    "from scipy.integrate import cumtrapz\n",
    "\n",
    "plt.close('all')\n",
    "\n",
    "# функція для обчислення підінтегрального виразу\n",
    "def f(x):\n",
    "    return (2 - 3 * x) * np.sin(2 * x)\n",
    "\n",
    "# задаємо масив точок в яких обчислюватиметься первісна\n",
    "x = np.linspace(-3, 3, num=121)\n",
    "x0 = 0\n",
    "i0 = np.where(x == x0)[0][0] # обираємо точку на грфіку первісної\n",
    "y = f(x)\n",
    "\n",
    "# Обчислення інтегралу\n",
    "C = 0\n",
    "yint = cumtrapz(y, x, initial=None) + C\n",
    "\n",
    "# Знаходження коефіцієнта k за наближеною формулою\n",
    "k1 = (yint[i0 + 1] - yint[i0]) / (x[i0+1] - x[i0])\n",
    "\n",
    "# Знаходження коефіцієнта k як значення підінтегрального виразу у точці x0\n",
    "delta_x = 0.1\n",
    "k2 = f(x0)\n",
    "\n",
    "# обчислюємо масиви ординат за якими будуватимуться дотичні до первісної у точці x0\n",
    "yd1 = yint[i0] + k1 * (x - x0)\n",
    "yd2 = yint[i0] + k2 * (x - x0)\n",
    "\n",
    "# Побудова графіків\n",
    "fig = plt.figure()\n",
    "\n",
    "plt.plot(x[1:], yint, 'k-', linewidth=3, label='∫f(x)dx')\n",
    "plt.plot(x, y, 'r', linewidth=3, label='f(x)')\n",
    "plt.plot(x, yd1, '--', color='blue', label='k - за наближеною формулою')\n",
    "plt.plot(x, yd2, '--', color='green', label='k - як підінтегральний виразу у точці x0')\n",
    "plt.scatter(x0, yint[i0])\n",
    "\n",
    "plt.legend(fontsize=10, loc='upper left')\n",
    "plt.grid(True)\n",
    "plt.show()"
   ]
  }
 ],
 "metadata": {
  "kernelspec": {
   "display_name": "Python 3",
   "language": "python",
   "name": "python3"
  },
  "language_info": {
   "codemirror_mode": {
    "name": "ipython",
    "version": 3
   },
   "file_extension": ".py",
   "mimetype": "text/x-python",
   "name": "python",
   "nbconvert_exporter": "python",
   "pygments_lexer": "ipython3",
   "version": "3.10.0"
  }
 },
 "nbformat": 4,
 "nbformat_minor": 2
}
