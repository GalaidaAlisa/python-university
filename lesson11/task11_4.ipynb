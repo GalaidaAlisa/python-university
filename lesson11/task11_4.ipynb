{
 "cells": [
  {
   "cell_type": "code",
   "execution_count": 6,
   "metadata": {},
   "outputs": [
    {
     "name": "stdout",
     "output_type": "stream",
     "text": [
      "Symbolic integral using sympy.integrate = 3.0\n",
      "Number integral using scipy.integrate.dblquad =  3.0\n",
      "Number integral using scipy.integrate.nquad =  3.0\n"
     ]
    }
   ],
   "source": [
    "# Подвійний інтеграл як повторний.\n",
    "\n",
    "%matplotlib qt \n",
    "import numpy as np\n",
    "import matplotlib.pyplot as plt\n",
    "from scipy.integrate import dblquad,nquad\n",
    "from sympy import symbols,sqrt,integrate\n",
    "plt.close('all')\n",
    "\n",
    "# створюємо необхідні функції\n",
    "x, y = symbols('x y')\n",
    "f = 18 * x**2 * y**2 + 32 * x**3 * y**3\n",
    "g = x**(1/3)\n",
    "h = -(x**2)\n",
    "\n",
    "# обчислюємо повторний інтеграл символьно за допомогою функції sympy.integrate\n",
    "I_sympy = integrate(integrate(f, (y, h, g)), (x, 0, 1))\n",
    "print(\"Symbolic integral using sympy.integrate = {:.1f}\".format(I_sympy))\n",
    "\n",
    "# обчислюємо повторний інтеграл символьно за допомогою функції scipy.integrate.dblquadс\n",
    "f=lambda y,x: 18*x**2*y**2+32*x**3*y**3\n",
    "g=lambda x: x**(1/3)\n",
    "h=lambda x: -(x**2)\n",
    "I1=dblquad(f, 0, 1, h, g) \n",
    "print(\"Number integral using scipy.integrate.dblquad ={:5.3}\".format(I1[0]))\n",
    "\n",
    "# обчислюємо повторний інтеграл символьно за допомогою функції scipy.integrate.nquad\n",
    "xbnd=lambda : [0, 1]\n",
    "ybnd=lambda x:[h(x),g(x)]\n",
    "I2=nquad(f, [ybnd,xbnd]) \n",
    "print(\"Number integral using scipy.integrate.nquad ={:5.3}\".format(I2[0]))\n",
    "\n",
    "# будуємо зображення зони інтегрування і обмежуючі її криві\n",
    "xh = np.linspace(-1, 2, num=61)\n",
    "xg = np.linspace(0, 2, num=41)\n",
    "yg=g(xg)\n",
    "yh=h(xh)\n",
    "fig = plt.figure(facecolor='white')\n",
    "plt.plot(xg, yg, 'k-', xh, yh,'b-',linewidth=4 )\n",
    "\n",
    "xr = np.linspace(0, 1, num=21)\n",
    "yrg=g(xr)\n",
    "yrh=h(xr)\n",
    "plt.fill_between(xr, yrg, yrh, color='c')\n",
    "plt.grid(True)\n"
   ]
  }
 ],
 "metadata": {
  "kernelspec": {
   "display_name": "Python 3",
   "language": "python",
   "name": "python3"
  },
  "language_info": {
   "codemirror_mode": {
    "name": "ipython",
    "version": 3
   },
   "file_extension": ".py",
   "mimetype": "text/x-python",
   "name": "python",
   "nbconvert_exporter": "python",
   "pygments_lexer": "ipython3",
   "version": "3.10.0"
  }
 },
 "nbformat": 4,
 "nbformat_minor": 2
}
