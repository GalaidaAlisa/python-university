{
 "cells": [
  {
   "cell_type": "code",
   "execution_count": 3,
   "metadata": {},
   "outputs": [
    {
     "name": "stdout",
     "output_type": "stream",
     "text": [
      "                        2                                 \n",
      "           d           d                                 x\n",
      "8⋅u(x) - 4⋅──(u(x)) + ───(u(x)) = (5⋅sin(x) - 3⋅cos(x))⋅ℯ \n",
      "           dx           2                                 \n",
      "                      dx                                  \n",
      "Загальний розв'язок u(x)= ((C1*sin(2*x) + C2*cos(2*x))*exp(x) + 13*sin(x)/10 - cos(x)/10)*exp(x)\n",
      "Окремий розв'язок y(x)= ((sin(2*x) - cos(2*x))*exp(x) + 13*sin(x)/10 - cos(x)/10)*exp(x)\n"
     ]
    }
   ],
   "source": [
    "%matplotlib qt \n",
    "import numpy as np\n",
    "import matplotlib.pyplot as plt\n",
    "from sympy import symbols,lambdify,pprint,Function,Eq,exp,sin,cos,dsolve\n",
    "plt.close('all')\n",
    "x,y,C1,C2=symbols('x y C1 C2')\n",
    "u = Function('u')\n",
    "eq = Eq(u(x).diff(x,x)-4*u(x).diff(x)+8*u(x),(5*sin(x)-3*cos(x))*exp(x))\n",
    "pprint(eq)\n",
    "rez=dsolve(eq, u(x))\n",
    "print(\"Загальний розв'язок u(x)=\",rez.rhs)\n",
    "\n",
    "y=rez.rhs.subs([(C1,1),(C2,-1)])\n",
    "print(\"Окремий розв'язок y(x)=\",y)\n",
    "F=lambdify(x, y, \"numpy\")\n",
    "# будуємо графік функції (конвертували y на numpy функцію)\n",
    "X=np.linspace(-3,1.1,61)\n",
    "Y=F(X)\n",
    "plt.plot(X,Y,'k',linewidth=3)\n",
    "plt.grid(True)\n"
   ]
  }
 ],
 "metadata": {
  "kernelspec": {
   "display_name": "Python 3",
   "language": "python",
   "name": "python3"
  },
  "language_info": {
   "codemirror_mode": {
    "name": "ipython",
    "version": 3
   },
   "file_extension": ".py",
   "mimetype": "text/x-python",
   "name": "python",
   "nbconvert_exporter": "python",
   "pygments_lexer": "ipython3",
   "version": "3.10.0"
  }
 },
 "nbformat": 4,
 "nbformat_minor": 2
}
