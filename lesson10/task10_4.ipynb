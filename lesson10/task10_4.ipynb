{
 "cells": [
  {
   "cell_type": "code",
   "execution_count": 3,
   "metadata": {},
   "outputs": [
    {
     "name": "stdout",
     "output_type": "stream",
     "text": [
      "[-3*sqrt(4 - x**2)/2, 3*sqrt(4 - x**2)/2]\n",
      "Маса платівки= 6\n"
     ]
    }
   ],
   "source": [
    "%matplotlib qt\n",
    "import matplotlib.pyplot as plt\n",
    "from sympy import symbols,integrate,And,solve,plot_implicit\n",
    "plt.close('all')\n",
    "x,y=symbols('x y')\n",
    "Fun=x**2/4+y**2/9\n",
    "plot_implicit(And(Fun<1,x>0,y>0), depth=2)\n",
    "fig=plt.gcf()\n",
    "ax=fig.gca()\n",
    "ax.axis('equal')\n",
    "ax.set_xlim(-1,2)\n",
    "ax.set_ylim(-1,4)\n",
    "x0=0; x1=2\n",
    "y0=0\n",
    "sols=solve(Fun-1,y)\n",
    "print(sols)\n",
    "y1=sols[1]\n",
    "mu=x**3*y\n",
    "m=integrate(mu,(y,y0,y1),(x,x0,x1))\n",
    "print('Маса платівки=',m)\n"
   ]
  }
 ],
 "metadata": {
  "kernelspec": {
   "display_name": "Python 3",
   "language": "python",
   "name": "python3"
  },
  "language_info": {
   "codemirror_mode": {
    "name": "ipython",
    "version": 3
   },
   "file_extension": ".py",
   "mimetype": "text/x-python",
   "name": "python",
   "nbconvert_exporter": "python",
   "pygments_lexer": "ipython3",
   "version": "3.10.0"
  }
 },
 "nbformat": 4,
 "nbformat_minor": 2
}
