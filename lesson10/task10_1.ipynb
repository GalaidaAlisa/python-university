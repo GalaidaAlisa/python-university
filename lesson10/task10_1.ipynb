{
 "cells": [
  {
   "cell_type": "code",
   "execution_count": 8,
   "metadata": {},
   "outputs": [
    {
     "name": "stdout",
     "output_type": "stream",
     "text": [
      "t0 = 11/19\n",
      "Координати точки М = (-2.74,-0.84,1.84)\n"
     ]
    },
    {
     "data": {
      "text/plain": [
       "(-1.0, 6.0)"
      ]
     },
     "execution_count": 8,
     "metadata": {},
     "output_type": "execute_result"
    }
   ],
   "source": [
    "%matplotlib qt \n",
    "import numpy as np\n",
    "import matplotlib.pyplot as plt\n",
    "from sympy import symbols,simplify,solve,lambdify\n",
    "plt.close('all')\n",
    "x,y,z,t = symbols('x y z t')\n",
    "F=-x+3*y-5*z+9\n",
    "xt=-3*t-1\n",
    "yt=2*t-2\n",
    "zt=-2*t+3\n",
    "ff=F.subs([(x,xt),(y,yt),(z,zt)])\n",
    "eq=simplify(ff)\n",
    "[t0]=solve(eq,t)\n",
    "print('t0 =',t0)\n",
    "x0=xt.subs(t,t0)\n",
    "y0=yt.subs(t,t0)\n",
    "z0=zt.subs(t,t0)\n",
    "print('Координати точки М = (%4.2f,%4.2f,%4.2f)' % (x0,y0,z0))\n",
    "[zz]=solve(F,z)\n",
    "fz=lambdify((x,y),zz,'numpy')\n",
    "x= np.linspace(-7,0,61)\n",
    "y= np.linspace(-4,3,61)\n",
    "X,Y=np.meshgrid(x,y)\n",
    "Z=fz(X,Y)\n",
    "fig = plt.figure()\n",
    "ax = fig.add_subplot(111, projection='3d')\n",
    "ax.plot_surface(X,Y,Z,rstride=10, cstride=10,color='c',alpha=0.5)\n",
    "ax.azim, ax.elev=15,15 # азимут і кутова висота точки спостереження\n",
    "Xt=lambdify(t,xt,'numpy')\n",
    "Yt=lambdify(t,yt,'numpy')\n",
    "Zt=lambdify(t,zt,'numpy')\n",
    "ti=np.linspace(-0.3,2,24)\n",
    "Xl=Xt(ti)\n",
    "Yl=Yt(ti)\n",
    "Zl=Zt(ti)\n",
    "ax.plot(Xl,Yl,Zl,linewidth=3,c='m')\n",
    "ax.scatter(x0,y0,z0,s=50,c='r')\n",
    "n=np.array([1,-2,5]) # вектор нормалі до площини P\n",
    "aL=np.array([-2,2,-1])\n",
    "\n",
    "al2=np.cross(aL,n)\n",
    "al1=np.cross(al2, n)\n",
    "\n",
    "n=n/np.linalg.norm(n) # одиничний вектор нормалі до площини P\n",
    "ax.quiver([x0],[y0],[z0],*(3*n),linewidth=2,color='b', arrow_length_ratio=0.25)\n",
    "\n",
    "xt1=al1[0]*t+x0\n",
    "yt1=al1[1]*t+y0\n",
    "zt1=al1[2]*t+z0\n",
    "Xt1=lambdify(t,xt1,'numpy')\n",
    "Yt1=lambdify(t,yt1,'numpy')\n",
    "Zt1=lambdify(t,zt1,'numpy')\n",
    "t1=np.linspace(-0.03,0.03,24)\n",
    "Xl1=Xt1(t1)\n",
    "Yl1=Yt1(t1)\n",
    "Zl1=Zt1(t1)\n",
    "ax.plot(Xl1,Yl1,Zl1,linewidth=3,c='black')\n",
    "\n",
    "\n",
    "xt2=al2[0]*t+x0\n",
    "yt2=al2[1]*t+y0\n",
    "zt2=al2[2]*t+z0\n",
    "Xt2=lambdify(t,xt2,'numpy')\n",
    "Yt2=lambdify(t,yt2,'numpy')\n",
    "Zt2=lambdify(t,zt2,'numpy')\n",
    "t2=np.linspace(-0.15, 0.15, 24)\n",
    "Xl2=Xt2(t2)\n",
    "Yl2=Yt2(t2)\n",
    "Zl2=Zt2(t2)\n",
    "ax.plot(Xl2,Yl2,Zl2,linewidth=3,c='black')\n",
    "\n",
    "ax.set_xlim(-7, 0)\n",
    "ax.set_ylim(-4, 3)\n",
    "ax.set_zlim(-1, 6)\n"
   ]
  }
 ],
 "metadata": {
  "kernelspec": {
   "display_name": "Python 3",
   "language": "python",
   "name": "python3"
  },
  "language_info": {
   "codemirror_mode": {
    "name": "ipython",
    "version": 3
   },
   "file_extension": ".py",
   "mimetype": "text/x-python",
   "name": "python",
   "nbconvert_exporter": "python",
   "pygments_lexer": "ipython3",
   "version": "3.10.0"
  }
 },
 "nbformat": 4,
 "nbformat_minor": 2
}
