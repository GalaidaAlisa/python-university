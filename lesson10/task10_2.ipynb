{
 "cells": [
  {
   "cell_type": "code",
   "execution_count": 4,
   "metadata": {},
   "outputs": [
    {
     "name": "stdout",
     "output_type": "stream",
     "text": [
      "Первісна =\n",
      "             3⋅x\n",
      "(15⋅x - 11)⋅ℯ   \n",
      "────────────────\n",
      "       9        \n",
      "Площа ≈ -1.0784\n"
     ]
    },
    {
     "data": {
      "text/plain": [
       "(-5.0, 3.0)"
      ]
     },
     "execution_count": 4,
     "metadata": {},
     "output_type": "execute_result"
    }
   ],
   "source": [
    "%matplotlib qt\n",
    "import numpy as np\n",
    "import matplotlib.pyplot as plt\n",
    "from sympy import symbols,simplify,exp,lambdify,integrate,pprint\n",
    "plt.close('all')\n",
    "\n",
    "a=-1; b=0\n",
    "x=symbols('x')\n",
    "fx=(5*x-2)*exp(3*x)\n",
    "ix=simplify(integrate(fx, x))\n",
    "print('Первісна =');pprint(ix)\n",
    "s=integrate(fx, (x,a,b))\n",
    "print('Площа \\u2248 %6.4f'% s.evalf())\n",
    "\n",
    "xx=np.linspace(-4,4,121)\n",
    "f=lambdify(x,fx,'numpy')\n",
    "yf=f(xx)\n",
    "p=lambdify(x,ix,'numpy')\n",
    "yp=p(xx)\n",
    "\n",
    "# малюємо графіки підінтегрального виразу і його первісної\n",
    "fig, ax = plt.subplots(1, 1)\n",
    "ax.plot(xx,yf,'b',lw=3,label='f(x)') # графік функції\n",
    "ax.plot(xx,yp,'g',lw=3,label='\\u222Bf(x)dx') # графік первісної\n",
    "ax.legend(fontsize=12,loc='lower right' )\n",
    "ax.axhline(color='black') # відображення горизонтальної осі\n",
    "ax.axvline(color='black') # відображення вертикальної осі\n",
    "\n",
    "# малюємо область площу якої представляє визначений інтеграл \n",
    "xs = np.linspace(a, b, num=21)\n",
    "ys=f(xs)\n",
    "y0=np.zeros(len(ys))\n",
    "ax.fill_between(xs, ys, y0, color='c')\n",
    "ax.set_xlim(-4, 4)\n",
    "ax.set_ylim(-5, 3)\n"
   ]
  }
 ],
 "metadata": {
  "kernelspec": {
   "display_name": "Python 3",
   "language": "python",
   "name": "python3"
  },
  "language_info": {
   "codemirror_mode": {
    "name": "ipython",
    "version": 3
   },
   "file_extension": ".py",
   "mimetype": "text/x-python",
   "name": "python",
   "nbconvert_exporter": "python",
   "pygments_lexer": "ipython3",
   "version": "3.10.0"
  }
 },
 "nbformat": 4,
 "nbformat_minor": 2
}
