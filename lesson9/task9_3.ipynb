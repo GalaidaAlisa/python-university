{
 "cells": [
  {
   "cell_type": "code",
   "execution_count": 5,
   "metadata": {},
   "outputs": [
    {
     "name": "stdout",
     "output_type": "stream",
     "text": [
      "y0= 1/3 - 2*sqrt(5)/3\n",
      "y0= 2/3 - sqrt(155)/6\n",
      "y0= 1 - sqrt(5)\n",
      "y0= 4/3 - sqrt(155)/6\n",
      "y0= 5/3 - 2*sqrt(5)/3\n"
     ]
    }
   ],
   "source": [
    "%matplotlib qt \n",
    "import numpy as np\n",
    "import matplotlib.pyplot as plt\n",
    "from sympy import symbols,simplify,diff,lambdify,solve\n",
    "plt.close('all')\n",
    "\n",
    "x,y = symbols('x y')\n",
    "F = 29 * (x ** 2) - 24 * x * y + 36 * (y ** 2) + 82 * x - 96 * y - 91\n",
    "Fx=simplify(diff(F,x))\n",
    "Fy=simplify(diff(F,y))\n",
    "\n",
    "Fim=lambdify((x,y),F,'numpy')\n",
    "xl = np.linspace(-5, 3.5, 31)\n",
    "yl = np.linspace(-2, 4, 31)\n",
    "X, Y = np.meshgrid(xl, yl)\n",
    "Z=Fim(X,Y)\n",
    "fig, ax = plt.subplots(1, 1)\n",
    "ax.contourf(X,Y,Z,[Fim(0,0),0], colors='c',extend='min')\n",
    "ax.contour(X,Y,Z,[0], colors='k',linewidths=4)\n",
    "ax.axis('equal')\n",
    "values = [-3, -2, -1, 0, 1]\n",
    "for x0 in values:\n",
    "    yr=solve(F.subs(x,x0),y)\n",
    "    y0=yr[0] # вібір першої точки, якщо розв’язків кілька\n",
    "    print('y0=',y0)\n",
    "\n",
    "    ax.scatter(x0,y0,s=100,c='r')\n",
    "\n",
    "    Fx0=Fx.subs([(x,x0),(y,y0)])\n",
    "    Fy0=Fy.subs([(x,x0),(y,y0)])\n",
    "    eqt=Fx0*(x-x0)+Fy0*(y-y0)\n",
    "    eqn=Fx0*(y-y0)-Fy0*(x-x0)\n",
    "\n",
    "    Eqt=lambdify((x,y),eqt,'numpy')\n",
    "    Eqn=lambdify((x,y),eqn,'numpy')\n",
    "\n",
    "    Zt=Eqt(X,Y)\n",
    "    Zn=Eqn(X,Y)\n",
    "    ax.contour(X,Y,Zt,[0],colors='r', linewidths=2, linestyles='dashed')\n",
    "    ax.contour(X,Y,Zn,[0], colors='b', linewidths=2,linestyles='dashdot')"
   ]
  }
 ],
 "metadata": {
  "kernelspec": {
   "display_name": "Python 3",
   "language": "python",
   "name": "python3"
  },
  "language_info": {
   "codemirror_mode": {
    "name": "ipython",
    "version": 3
   },
   "file_extension": ".py",
   "mimetype": "text/x-python",
   "name": "python",
   "nbconvert_exporter": "python",
   "pygments_lexer": "ipython3",
   "version": "3.10.0"
  }
 },
 "nbformat": 4,
 "nbformat_minor": 2
}
