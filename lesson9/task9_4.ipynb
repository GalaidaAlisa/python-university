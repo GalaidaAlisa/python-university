{
 "cells": [
  {
   "cell_type": "code",
   "execution_count": 13,
   "metadata": {},
   "outputs": [
    {
     "name": "stdout",
     "output_type": "stream",
     "text": [
      "dz/dx = 0.367879441171442**(x**2 + y**2)*x*(-2.0*x**2 - 2.0*y**2 + 2)\n",
      "dz/dy = 0.367879441171442**(x**2 + y**2)*y*(-2.0*x**2 - 2.0*y**2 + 2)\n",
      "Координати точки  0.50 -0.50  0.30\n"
     ]
    }
   ],
   "source": [
    "%matplotlib qt \n",
    "import numpy as np\n",
    "import matplotlib.pyplot as plt\n",
    "from sympy import symbols, simplify, diff, lambdify\n",
    "import math\n",
    "plt.close('all')\n",
    "\n",
    "x, y = symbols('x y')\n",
    "zf = (math.e ** (-x * x - y * y)) * (x ** 2 + y ** 2)\n",
    "zx = simplify(diff(zf, x))\n",
    "zy = simplify(diff(zf, y))\n",
    "print(\"dz/dx =\", zx)\n",
    "print(\"dz/dy =\", zy)\n",
    "x0 = 0.5\n",
    "y0 = -0.5\n",
    "z0 = zf.subs([(x, x0), (y, y0)])\n",
    "print('Координати точки %5.2f %5.2f %5.2f' % (x0, y0, z0))\n",
    "zx0 = zx.subs([(x, x0), (y, y0)])\n",
    "zy0 = zy.subs([(x, x0), (y, y0)])\n",
    "F = lambdify((x, y), zf, 'numpy')\n",
    "xx = np.linspace(-0.5, 1.5, 21)\n",
    "yy = np.linspace(-1.5, 0.5, 21)\n",
    "X, Y = np.meshgrid(xx, yy)\n",
    "Z = F(X, Y)\n",
    "\n",
    "fig = plt.figure()\n",
    "ax = fig.add_subplot(111, projection='3d')\n",
    "ax.plot_wireframe(X, Y, Z, rstride=1, cstride=1, linewidth=1)\n",
    "P = np.array([x0, y0, z0], dtype='float')\n",
    "ax.plot([P[0]], [P[1]], [P[2]], c='r', marker='o', ms=10)\n",
    "n = np.array([zx0, zy0, -1], dtype='float')\n",
    "ax.quiver(P[0], P[1], P[2], -2 * n[0], -2 * n[1], -2 * n[2], linewidth=2, color='r', arrow_length_ratio=0.25)\n",
    "t1 = np.linspace(-0.5, 1.4, 21)\n",
    "xc1 = t1\n",
    "yc1 = t1 / t1 * y0\n",
    "zc1 = F(xc1, yc1)\n",
    "ax.plot(xc1, yc1, zc1, linewidth=3, c='k')\n",
    "\n",
    "t2 = np.linspace(-1.5, 0.4, 21)\n",
    "xc2 = t2 / t2 * x0\n",
    "yc2 = t2\n",
    "zc2 = F(xc2, yc2)\n",
    "ax.plot(xc2, yc2, zc2, linewidth=3, c='k')\n",
    "nc = np.array([0, -2, -2 * zy0], dtype='float')\n",
    "ax.quiver(P[0], P[1], P[2], nc[0], nc[1], nc[2], linewidth=2, color='m', arrow_length_ratio=0.25)\n",
    "\n",
    "nc = np.array([1, 0, zx0], dtype='float')\n",
    "ax.quiver(P[0], P[1], P[2], nc[0], nc[1], nc[2], linewidth=2, color='m', arrow_length_ratio=0.25)\n",
    "\n",
    "ax.set_xlim([0, 10])\n",
    "ax.set_xlim(-1.5, 1.5)\n",
    "ax.set_ylim(-1.5, 1.5)\n",
    "ax.set_zlim(-1, 2)\n",
    "ax.set_aspect('equal', 'box')\n"
   ]
  }
 ],
 "metadata": {
  "kernelspec": {
   "display_name": "Python 3",
   "language": "python",
   "name": "python3"
  },
  "language_info": {
   "codemirror_mode": {
    "name": "ipython",
    "version": 3
   },
   "file_extension": ".py",
   "mimetype": "text/x-python",
   "name": "python",
   "nbconvert_exporter": "python",
   "pygments_lexer": "ipython3",
   "version": "3.10.0"
  }
 },
 "nbformat": 4,
 "nbformat_minor": 2
}
