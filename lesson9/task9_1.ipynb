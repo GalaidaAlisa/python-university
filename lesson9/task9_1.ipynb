{
 "cells": [
  {
   "cell_type": "code",
   "execution_count": 4,
   "metadata": {},
   "outputs": [
    {
     "name": "stdout",
     "output_type": "stream",
     "text": [
      "Рівняння похилої асимптоти: y= sqrt(3)*x/3\n",
      "Корені знаменника: [-sqrt(6)/3, sqrt(6)/3]\n",
      "Границя = oo*I\n",
      "Рівняння вертикальної асимптоти: x1= -sqrt(6)/3\n",
      "Рівняння вертикальної асимптоти: x2= sqrt(6)/3\n"
     ]
    }
   ],
   "source": [
    "%matplotlib qt \n",
    "import numpy as np\n",
    "import matplotlib.pyplot as plt\n",
    "from sympy import symbols, lambdify, solve, limit, oo\n",
    "import warnings\n",
    "\n",
    "plt.close('all')\n",
    "x, y = symbols('x y')\n",
    "f = (x * x - 3) / ((3 * x * x - 2) ** 0.5)\n",
    "a = limit(f / x, x, oo)\n",
    "b = limit(f - a * x, x, oo)\n",
    "fasm = a * x + b\n",
    "print('Рівняння похилої асимптоти: y=', fasm)\n",
    "sols = solve(3 * x * x - 2, x)\n",
    "print('Корені знаменника:', sols)\n",
    "print('Границя =', limit(f, x, sols[0]))\n",
    "F = lambdify(x, f, \"numpy\")\n",
    "X = np.linspace(-3, 7, 101)\n",
    "warnings.filterwarnings('ignore')  # не виводити попередження\n",
    "Y = F(X)\n",
    "plt.plot(X, Y, 'b', linewidth=3)\n",
    "Fasm = lambdify(x, fasm, \"numpy\")\n",
    "Yasm = Fasm(X)\n",
    "plt.plot(X, Yasm, linestyle='--', color='r')\n",
    "print('Рівняння вертикальної асимптоти: x1=', sols[0])\n",
    "plt.vlines(sols[0], -3.9, 6, linestyle='--', color='r')\n",
    "print('Рівняння вертикальної асимптоти: x2=', sols[1])\n",
    "plt.vlines(sols[1], -3.9, 6, linestyle='--', color='r')\n",
    "plt.axhline(color='k')  # відображення горизонтальної осі\n",
    "plt.axvline(color='k')  # відображення вертикальної осі\n",
    "plt.grid(True)\n"
   ]
  }
 ],
 "metadata": {
  "kernelspec": {
   "display_name": "Python 3",
   "language": "python",
   "name": "python3"
  },
  "language_info": {
   "codemirror_mode": {
    "name": "ipython",
    "version": 3
   },
   "file_extension": ".py",
   "mimetype": "text/x-python",
   "name": "python",
   "nbconvert_exporter": "python",
   "pygments_lexer": "ipython3",
   "version": "3.10.0"
  }
 },
 "nbformat": 4,
 "nbformat_minor": 2
}
