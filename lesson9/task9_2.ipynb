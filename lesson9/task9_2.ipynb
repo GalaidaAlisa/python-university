{
 "cells": [
  {
   "cell_type": "code",
   "execution_count": 7,
   "metadata": {},
   "outputs": [
    {
     "name": "stdout",
     "output_type": "stream",
     "text": [
      "f'(x)= -3.0*x**5/(3*x**4 + 1)**1.5 + x/(3*x**4 + 1)**0.5 \n",
      "f\"(x)= 54.0*x**8/(3*x**4 + 1)**2.5 - 21.0*x**4/(3*x**4 + 1)**1.5 + 1.0/(3*x**4 + 1)**0.5\n",
      "Дотична в точці x0 = -0.9\n"
     ]
    },
    {
     "data": {
      "text/plain": [
       "(-4.27, 3.87, -2.890157040636763, 3.3603012840431816)"
      ]
     },
     "execution_count": 7,
     "metadata": {},
     "output_type": "execute_result"
    }
   ],
   "source": [
    "%matplotlib qt \n",
    "import numpy as np\n",
    "import matplotlib.pyplot as plt\n",
    "from sympy import symbols,simplify,sqrt,diff,lambdify\n",
    "plt.close('all')\n",
    "x,y=symbols('x y')\n",
    "fx=x ** 2 / (2 * (1 + 3 * (x ** 4)) ** 0.5)\n",
    "f1x=simplify(diff(fx,x))\n",
    "f2x=simplify(diff(fx,x,x))\n",
    "print(\"f'(x)=\",f1x,'\\nf\"(x)=',f2x)\n",
    "F0=lambdify(x, fx, \"numpy\")\n",
    "F1=lambdify(x, f1x, \"numpy\")\n",
    "F2=lambdify(x, f2x, \"numpy\")\n",
    "X=np.linspace(-3.5,3.5,84)\n",
    "Y=F0(X)\n",
    "X1=np.linspace(-3,3,84)\n",
    "Y1=F1(X1)\n",
    "X2=np.linspace(-3,3,84)\n",
    "Y2=F2(X2)\n",
    "fig, ax = plt.subplots(1, 1)\n",
    "ax.plot(X,Y,'b',linewidth=3,label='f(x)')\n",
    "ax.plot(X1,Y1,'r',linewidth=3,label=\"f'(x)\")\n",
    "ax.plot(X2,Y2,'g',linewidth=3,label='f\"(x)')\n",
    "ax.legend(fontsize=12,loc='lower right' ) # loc='upper center'\n",
    "ax.grid(True)\n",
    "x0=-0.9\n",
    "print(\"Дотична в точці x0 =\", x0)\n",
    "y0=F0(x0)\n",
    "ax.scatter(x0,y0,s=50,c='k')\n",
    "k=F1(x0)\n",
    "Xt=np.linspace(x0-3,x0+3,84)\n",
    "Yt=y0+k*(Xt-x0)\n",
    "normal_slope = -1 / k  # Угловой коэффициент нормали\n",
    "Xn = np.linspace(x0 - 0.5, x0 + 0.5, 84)  # Выберите диапазон для построения нормали\n",
    "Yn = y0 + normal_slope * (Xn - x0)  # Уравнение нормали\n",
    "ax.plot(Xt,Yt,Xn,Yn,'--k',linewidth=2)\n",
    "ax.axis('equal')\n"
   ]
  }
 ],
 "metadata": {
  "kernelspec": {
   "display_name": "Python 3",
   "language": "python",
   "name": "python3"
  },
  "language_info": {
   "codemirror_mode": {
    "name": "ipython",
    "version": 3
   },
   "file_extension": ".py",
   "mimetype": "text/x-python",
   "name": "python",
   "nbconvert_exporter": "python",
   "pygments_lexer": "ipython3",
   "version": "3.10.0"
  }
 },
 "nbformat": 4,
 "nbformat_minor": 2
}
